{
  "nbformat": 4,
  "nbformat_minor": 0,
  "metadata": {
    "colab": {
      "provenance": [],
      "authorship_tag": "ABX9TyNIrBP6inbgqJw2D48Y3lZ4",
      "include_colab_link": true
    },
    "kernelspec": {
      "name": "python3",
      "display_name": "Python 3"
    },
    "language_info": {
      "name": "python"
    }
  },
  "cells": [
    {
      "cell_type": "markdown",
      "metadata": {
        "id": "view-in-github",
        "colab_type": "text"
      },
      "source": [
        "<a href=\"https://colab.research.google.com/github/klkeroro/Metaheuristic-GA/blob/main/BinaryGA.ipynb\" target=\"_parent\"><img src=\"https://colab.research.google.com/assets/colab-badge.svg\" alt=\"Open In Colab\"/></a>"
      ]
    },
    {
      "cell_type": "code",
      "execution_count": 5,
      "metadata": {
        "colab": {
          "base_uri": "https://localhost:8080/",
          "height": 132
        },
        "id": "j4ZVT7ppEIJ-",
        "outputId": "c5e1b3a9-3a5c-461a-ff4e-40f5d5e97860"
      },
      "outputs": [
        {
          "output_type": "error",
          "ename": "IndentationError",
          "evalue": "ignored",
          "traceback": [
            "\u001b[0;36m  File \u001b[0;32m\"<ipython-input-5-96ec1ab24197>\"\u001b[0;36m, line \u001b[0;32m28\u001b[0m\n\u001b[0;31m    def mutation():\u001b[0m\n\u001b[0m    ^\u001b[0m\n\u001b[0;31mIndentationError\u001b[0m\u001b[0;31m:\u001b[0m expected an indented block\n"
          ]
        }
      ],
      "source": [
        "# To solve the optimal binary decesions for the function: f(x,y)=0.26*(x^2+y^2)-0.48*x*y；-10<= x,y <= 10\n",
        "\n",
        "# Using package\n",
        "import numpy as np\n",
        "import matplotlib.pyplot as plt\n",
        "from numpy.random import rand, randint\n",
        "\n",
        "# Objective_Function\n",
        "def objective_function(I):\n",
        "  x = I[0]\n",
        "  y = I[1]\n",
        "  Objective_min = 0.26*(x**2 + y**2)-0.48*x*y\n",
        "  Objective_max = 1/(1 + Objective_min) # Convert the min to max problem\n",
        "\n",
        "# Parameters of the binary genetice algorithm\n",
        "bounds = [[-10, 10], [-10, 10]]\n",
        "iteration = 200\n",
        "bits = 20 # number of bits for each variable\n",
        "pop_size = 50\n",
        "crossove_rate = 0.7\n",
        "mutation_rate = 0.3\n",
        "\n",
        "#-------------------------------------------------------------------------------------------------------------------------------------------\n",
        "\n",
        "def crossover():\n",
        "\n",
        "\n",
        "def mutation():\n",
        "\n",
        "\n",
        "def real_chromosome():\n",
        "\n",
        "\n",
        "#--------------------------------------------------------------------------------------------------------------------------------------------\n",
        "\n",
        "# Initial population\n",
        "pop = [randint(0, 2, bits*len(bounds)).tolist() for i in range(pop_size)]\n",
        "\n",
        "# main program\n",
        "best_fitness = []\n",
        "for gen in range(iteration):\n",
        "  offspring = crossover(pop, crossove_rate)\n",
        "  offspring = mutation(offspring, mutation_rate)\n",
        "\n",
        "  for s in range(offspring):\n",
        "    pop.append(s) # add all the offspring in the pop\n",
        "  \n",
        "  real_chromosome = [real_chromosome(bounds, bits, p) for p in pop] # decode each chromosome from the pop\n",
        "  fitness = [objective_function(d) for d in range(pop)] # calculate each chromosome from the pop\n",
        "\n",
        "  index = np.argmax(fitness)\n",
        "  current_test = pop[index]\n",
        "  best_fitness = \n",
        "\n",
        "\n",
        "\n",
        "\n",
        "\n",
        "\n",
        "\n",
        "\n",
        "\n"
      ]
    },
    {
      "cell_type": "code",
      "source": [],
      "metadata": {
        "id": "a-x5YduxgOoA"
      },
      "execution_count": null,
      "outputs": []
    }
  ]
}