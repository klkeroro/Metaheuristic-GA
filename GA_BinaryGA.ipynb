{
  "nbformat": 4,
  "nbformat_minor": 0,
  "metadata": {
    "colab": {
      "provenance": [],
      "authorship_tag": "ABX9TyOObz/2P8TV9vlmCmSLb01h",
      "include_colab_link": true
    },
    "kernelspec": {
      "name": "python3",
      "display_name": "Python 3"
    },
    "language_info": {
      "name": "python"
    }
  },
  "cells": [
    {
      "cell_type": "markdown",
      "metadata": {
        "id": "view-in-github",
        "colab_type": "text"
      },
      "source": [
        "<a href=\"https://colab.research.google.com/github/klkeroro/Metaheuristic-GA/blob/main/GA_BinaryGA.ipynb\" target=\"_parent\"><img src=\"https://colab.research.google.com/assets/colab-badge.svg\" alt=\"Open In Colab\"/></a>"
      ]
    },
    {
      "cell_type": "code",
      "execution_count": 8,
      "metadata": {
        "id": "oybvueEJhgbN",
        "colab": {
          "base_uri": "https://localhost:8080/",
          "height": 343
        },
        "outputId": "0615543a-656f-46f5-f79c-bc3633f22f74"
      },
      "outputs": [
        {
          "output_type": "stream",
          "name": "stdout",
          "text": [
            "Min objective function value: 9.674840839579701e-08\n",
            "Optimal solution [0.001544952392578125, 0.00156402587890625]\n"
          ]
        },
        {
          "output_type": "display_data",
          "data": {
            "text/plain": [
              "<Figure size 432x288 with 1 Axes>"
            ],
            "image/png": "[encoded data removed]"
          },
          "metadata": {
            "needs_background": "light"
          }
        }
      ],
      "source": [
        "from numpy.random import rand, randint\n",
        "import numpy as np\n",
        "import matplotlib.pyplot as plt\n",
        " \n",
        " \n",
        "def objective_function(I):\n",
        "    x = I[0]\n",
        "    y = I[1]\n",
        "    Objective_min = 0.26*(x**2 + y**2) - 0.48*x*y\n",
        "    Objective_max = 1/(1 + Objective_min) # Convert the min to max problem\n",
        "     \n",
        "    return Objective_max\n",
        " \n",
        " \n",
        "# Parameters of the binary genetic algorithm\n",
        "bounds = [[-10, 10], [-10, 10]]\n",
        "iteration = 200\n",
        "bits = 20 # number of bits for each variable\n",
        "pop_size = 100\n",
        "crossover_rate = 0.8\n",
        "mutation_rate = 0.2\n",
        " \n",
        " \n",
        "#-----------------------------------------------------------------------------\n",
        "# the rest of the python code can be kept the same\n",
        "def crossover(pop, crossover_rate):\n",
        "    offspring = list()\n",
        "    for i in range(int(len(pop)/2)):\n",
        "        p1 = pop[2*i-1].copy() # parent 1\n",
        "        p2 = pop[2*i].copy() # parent 2   \n",
        "        if rand() < crossover_rate:\n",
        "            cp = randint(1, len(p1)-1,size=2) # two random cutting points\n",
        "            while cp[0]==cp[1]:\n",
        "                cp = randint(1, len(p1)-1,size=2) # two random cutting points\n",
        "                 \n",
        "            cp = sorted(cp)\n",
        "            c1 = p1[:cp[0]] + p2[cp[0]:cp[1]] + p1[cp[1]:]\n",
        "            c2 = p2[:cp[0]] + p1[cp[0]:cp[1]] + p2[cp[1]:]\n",
        "            offspring.append(c1)\n",
        "            offspring.append(c2)\n",
        "        else:\n",
        "            offspring.append(p1)\n",
        "            offspring.append(p2)\n",
        "     \n",
        "    return offspring\n",
        " \n",
        " \n",
        "def mutation(pop, mutation_rate):\n",
        "    offspring = list()\n",
        "    for i in range(int(len(pop))):\n",
        "        p1 = pop[i].copy() # parent \n",
        "        if rand() < mutation_rate:\n",
        "            cp = randint(0, len(p1)) # random gene\n",
        "            c1 = p1\n",
        "            if c1[cp]==1:\n",
        "                c1[cp]=0 # flip\n",
        "            else:\n",
        "                c1[cp]=1\n",
        " \n",
        "            offspring.append(c1)\n",
        "        else:\n",
        "            offspring.append(p1)\n",
        "     \n",
        "    return offspring\n",
        " \n",
        " \n",
        "# roulette wheel selection\n",
        "def selection(pop, fitness, pop_size):\n",
        "    next_generation = list()\n",
        "    elite = np.argmax(fitness)\n",
        "    next_generation.append(pop[elite])  # keep the best\n",
        "    P = [f/sum(fitness) for f in fitness]  # selection probability\n",
        "    index = list(range(int(len(pop))))\n",
        "    index_selected = np.random.choice(index, size=pop_size-1, replace=False, p=P)\n",
        "    s = 0\n",
        "    for j in range(pop_size-1):\n",
        "        next_generation.append(pop[index_selected[s]])\n",
        "        s +=1\n",
        " \n",
        "    return next_generation\n",
        " \n",
        " \n",
        "def decoding(bounds, bits, chromosome):\n",
        "    real_chromosome = list()\n",
        "    for i in range(len(bounds)):\n",
        "        st, en = i * bits, (i*bits)+bits # extract the chromosome\n",
        "        sub = chromosome[st:en]\n",
        "        chars = ''.join([str(s) for s in sub]) # convert to chars\n",
        "        integer = int(chars, 2) # convert to integer\n",
        "        real_value = bounds[i][0] + (integer/(2**bits)) * (bounds[i][1] - bounds[i][0])\n",
        "        real_chromosome.append(real_value)\n",
        " \n",
        "    return real_chromosome\n",
        " \n",
        " \n",
        "# Initial population\n",
        "pop = [randint(0, 2, bits*len(bounds)).tolist() for _ in range(pop_size)]\n",
        " \n",
        " \n",
        "# main program\n",
        "best_fitness = []\n",
        "for gen in range(iteration):\n",
        "    offspring = crossover(pop, crossover_rate)\n",
        "    offspring = mutation(offspring, mutation_rate)\n",
        "     \n",
        "    for s in offspring:\n",
        "        pop.append(s)\n",
        " \n",
        "    real_chromosome = [decoding(bounds, bits, p) for p in pop]\n",
        "    fitness = [objective_function(d) for d in real_chromosome] # fitness value\n",
        " \n",
        "    index = np.argmax(fitness)\n",
        "    current_best = pop[index]\n",
        "    best_fitness.append(1/max(fitness) - 1)\n",
        "    pop = selection(pop,fitness,pop_size)\n",
        "     \n",
        "fig = plt.figure()\n",
        "plt.plot(best_fitness)\n",
        "fig.suptitle('Evolution of the best chromosome')\n",
        "plt.xlabel('Iteration')\n",
        "plt.ylabel('Objective function value')\n",
        "print('Min objective function value:',min(best_fitness))\n",
        "print(\"Optimal solution\",decoding(bounds, bits, current_best))"
      ]
    },
    {
      "cell_type": "code",
      "source": [],
      "metadata": {
        "id": "O0DChnWAlQG-"
      },
      "execution_count": null,
      "outputs": []
    }
  ]
}